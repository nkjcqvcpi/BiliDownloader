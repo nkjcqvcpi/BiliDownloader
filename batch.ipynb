{
 "cells": [
  {
   "cell_type": "code",
   "execution_count": 7,
   "metadata": {
    "collapsed": true
   },
   "outputs": [],
   "source": [
    "path = '/Volumes/THL/原神/376427521'\n",
    "output_path = '/Volumes/THL/原神/原神过场动画收集合集'\n",
    "\n",
    "import os\n",
    "import json\n",
    "import subprocess\n",
    "from tqdm.notebook import tqdm"
   ]
  },
  {
   "cell_type": "code",
   "execution_count": 8,
   "outputs": [
    {
     "data": {
      "text/plain": "  0%|          | 0/80 [00:00<?, ?it/s]",
      "application/vnd.jupyter.widget-view+json": {
       "version_major": 2,
       "version_minor": 0,
       "model_id": "cbf9b33b29754270b6dbe662ee43e788"
      }
     },
     "metadata": {},
     "output_type": "display_data"
    }
   ],
   "source": [
    "ps = os.listdir(path)\n",
    "ps.remove('.DS_Store')\n",
    "\n",
    "for p in tqdm(ps):\n",
    "    with open(os.path.join(path, p, 'entry.json'), 'r') as j:\n",
    "        metadata = json.load(j)\n",
    "    dir_name = metadata['type_tag']\n",
    "    filepath = os.path.join(output_path, metadata['page_data']['part'] + '.mov')\n",
    "    video_path = os.path.join(path, p, dir_name, 'video.m4s')\n",
    "    audio_path = os.path.join(path, p, dir_name, 'audio.m4s')\n",
    "    cmd = subprocess.run(['ffmpeg', '-i', video_path, '-i', audio_path, '-c', 'copy', filepath], capture_output=True)"
   ],
   "metadata": {
    "collapsed": false,
    "pycharm": {
     "name": "#%%\n"
    }
   }
  },
  {
   "cell_type": "code",
   "execution_count": 10,
   "outputs": [
    {
     "data": {
      "text/plain": "  0%|          | 0/54 [00:00<?, ?it/s]",
      "application/vnd.jupyter.widget-view+json": {
       "version_major": 2,
       "version_minor": 0,
       "model_id": "1e15d9d8826445619aee3ba9d1d9d9e7"
      }
     },
     "metadata": {},
     "output_type": "display_data"
    }
   ],
   "source": [
    "path = '/Volumes/THL/原神/原神过场动画收集合集/未命名文件夹'\n",
    "\n",
    "ps = os.listdir(path)\n",
    "try:\n",
    "    ps.remove('.DS_Store')\n",
    "except Exception:\n",
    "    pass\n",
    "\n",
    "for p in tqdm(ps):\n",
    "    video_path = os.path.join(path, p)\n",
    "    filepath = os.path.join(output_path, p)\n",
    "    cmd = subprocess.run(['ffmpeg', '-i', video_path, '-c:v', 'copy', '-tag:v', 'hvc1', '-c:a', 'copy', filepath], capture_output=True)"
   ],
   "metadata": {
    "collapsed": false,
    "pycharm": {
     "name": "#%%\n"
    }
   }
  }
 ],
 "metadata": {
  "kernelspec": {
   "display_name": "Python 3",
   "language": "python",
   "name": "python3"
  },
  "language_info": {
   "codemirror_mode": {
    "name": "ipython",
    "version": 2
   },
   "file_extension": ".py",
   "mimetype": "text/x-python",
   "name": "python",
   "nbconvert_exporter": "python",
   "pygments_lexer": "ipython2",
   "version": "2.7.6"
  }
 },
 "nbformat": 4,
 "nbformat_minor": 0
}